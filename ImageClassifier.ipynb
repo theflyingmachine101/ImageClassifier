{
 "cells": [
  {
   "cell_type": "code",
   "execution_count": 1,
   "metadata": {},
   "outputs": [],
   "source": [
    "import tensorflow as tf\n",
    "import numpy as np\n",
    "import matplotlib.pyplot as mp\n",
    "from tensorflow.keras.layers import Dense,Conv2D,Dropout,Activation,MaxPooling2D,Flatten\n",
    "from tensorflow.keras.utils import to_categorical\n",
    "from tensorflow.keras.preprocessing.image import ImageDataGenerator"
   ]
  },
  {
   "cell_type": "code",
   "execution_count": 2,
   "metadata": {},
   "outputs": [],
   "source": [
    "model= tf.keras.models.Sequential()\n",
    "model.add(Conv2D(64,(3,3),input_shape=(64,64,3),activation='relu'))\n",
    "model.add(MaxPooling2D(pool_size=(2, 2)))\n",
    "model.add(Dropout(0.2))\n",
    "model.add(Conv2D(64,(3,3),input_shape=(64,64,3),activation='relu'))\n",
    "model.add(MaxPooling2D(pool_size=(2, 2)))\n",
    "model.add(Dropout(0.2))\n",
    "model.add(Flatten())\n",
    "model.add(Dense(128, activation='relu'))\n",
    "model.add(Dense(1, activation='sigmoid'))\n",
    "model.compile(optimizer='adam',loss='binary_crossentropy',metrics=['accuracy']) "
   ]
  },
  {
   "cell_type": "code",
   "execution_count": 3,
   "metadata": {},
   "outputs": [
    {
     "name": "stdout",
     "output_type": "stream",
     "text": [
      "Found 2814 images belonging to 2 classes.\n",
      "Found 1106 images belonging to 2 classes.\n"
     ]
    }
   ],
   "source": [
    "train_datagen = ImageDataGenerator(rescale = 1./255,shear_range = 0.1,zoom_range = 0.2,horizontal_flip = True)\n",
    "test_datagen = ImageDataGenerator(rescale = 1./255)\n",
    "training_set = train_datagen.flow_from_directory('ImageClassifier/training_set',target_size = (64, 64),batch_size = 32,class_mode = 'binary')\n",
    "test_set = test_datagen.flow_from_directory('ImageClassifier/test_set',target_size = (64, 64),batch_size = 32,class_mode = 'binary')"
   ]
  },
  {
   "cell_type": "code",
   "execution_count": 6,
   "metadata": {},
   "outputs": [
    {
     "name": "stdout",
     "output_type": "stream",
     "text": [
      "Epoch 1/30\n",
      "62/62 [==============================] - 30s 481ms/step - loss: 0.1502 - acc: 0.9389 - val_loss: 0.7431 - val_acc: 0.7638\n",
      "Epoch 2/30\n",
      "62/62 [==============================] - 29s 470ms/step - loss: 0.1558 - acc: 0.9350 - val_loss: 0.8610 - val_acc: 0.7712\n",
      "Epoch 3/30\n",
      "62/62 [==============================] - 30s 484ms/step - loss: 0.1689 - acc: 0.9335 - val_loss: 0.9268 - val_acc: 0.7400\n",
      "Epoch 4/30\n",
      "62/62 [==============================] - 29s 471ms/step - loss: 0.1524 - acc: 0.9390 - val_loss: 0.9133 - val_acc: 0.7400\n",
      "Epoch 5/30\n",
      "62/62 [==============================] - 29s 476ms/step - loss: 0.1494 - acc: 0.9420 - val_loss: 0.9212 - val_acc: 0.7538\n",
      "Epoch 6/30\n",
      "62/62 [==============================] - 29s 470ms/step - loss: 0.1464 - acc: 0.9440 - val_loss: 0.7469 - val_acc: 0.7950\n",
      "Epoch 7/30\n",
      "62/62 [==============================] - 29s 472ms/step - loss: 0.1400 - acc: 0.9474 - val_loss: 0.8886 - val_acc: 0.7438\n",
      "Epoch 8/30\n",
      "62/62 [==============================] - 30s 477ms/step - loss: 0.1432 - acc: 0.9486 - val_loss: 0.8426 - val_acc: 0.7438\n",
      "Epoch 9/30\n",
      "62/62 [==============================] - 29s 471ms/step - loss: 0.1208 - acc: 0.9561 - val_loss: 0.8625 - val_acc: 0.7662\n",
      "Epoch 10/30\n",
      "62/62 [==============================] - 29s 470ms/step - loss: 0.1246 - acc: 0.9506 - val_loss: 1.0174 - val_acc: 0.7462\n",
      "Epoch 11/30\n",
      "62/62 [==============================] - 29s 470ms/step - loss: 0.1341 - acc: 0.9491 - val_loss: 0.9621 - val_acc: 0.7438\n",
      "Epoch 12/30\n",
      "62/62 [==============================] - 30s 479ms/step - loss: 0.1455 - acc: 0.9441 - val_loss: 0.9013 - val_acc: 0.7612\n",
      "Epoch 13/30\n",
      "62/62 [==============================] - 29s 472ms/step - loss: 0.1395 - acc: 0.9486 - val_loss: 0.9013 - val_acc: 0.7538\n",
      "Epoch 14/30\n",
      "62/62 [==============================] - 29s 473ms/step - loss: 0.1260 - acc: 0.9561 - val_loss: 0.9978 - val_acc: 0.7550\n",
      "Epoch 15/30\n",
      "62/62 [==============================] - 29s 472ms/step - loss: 0.1296 - acc: 0.9510 - val_loss: 0.8577 - val_acc: 0.7662\n",
      "Epoch 16/30\n",
      "62/62 [==============================] - 29s 474ms/step - loss: 0.1339 - acc: 0.9511 - val_loss: 0.9811 - val_acc: 0.7375\n",
      "Epoch 17/30\n",
      "62/62 [==============================] - 29s 467ms/step - loss: 0.1497 - acc: 0.9470 - val_loss: 0.9089 - val_acc: 0.7562\n",
      "Epoch 18/30\n",
      "62/62 [==============================] - 30s 485ms/step - loss: 0.1193 - acc: 0.9561 - val_loss: 1.0374 - val_acc: 0.7538\n",
      "Epoch 19/30\n",
      "62/62 [==============================] - 29s 469ms/step - loss: 0.1592 - acc: 0.9400 - val_loss: 0.8559 - val_acc: 0.7612\n",
      "Epoch 20/30\n",
      "62/62 [==============================] - 29s 471ms/step - loss: 0.1190 - acc: 0.9622 - val_loss: 0.9067 - val_acc: 0.7638\n",
      "Epoch 21/30\n",
      "62/62 [==============================] - 29s 474ms/step - loss: 0.0937 - acc: 0.9713 - val_loss: 0.8928 - val_acc: 0.7725\n",
      "Epoch 22/30\n",
      "62/62 [==============================] - 30s 488ms/step - loss: 0.1106 - acc: 0.9622 - val_loss: 0.9895 - val_acc: 0.7525\n",
      "Epoch 23/30\n",
      "62/62 [==============================] - 31s 502ms/step - loss: 0.0896 - acc: 0.9672 - val_loss: 1.0127 - val_acc: 0.7538\n",
      "Epoch 24/30\n",
      "62/62 [==============================] - 30s 491ms/step - loss: 0.0832 - acc: 0.9703 - val_loss: 0.8769 - val_acc: 0.7775\n",
      "Epoch 25/30\n",
      "62/62 [==============================] - 31s 505ms/step - loss: 0.1332 - acc: 0.9461 - val_loss: 0.8551 - val_acc: 0.7662\n",
      "Epoch 26/30\n",
      "62/62 [==============================] - 38s 618ms/step - loss: 0.1041 - acc: 0.9586 - val_loss: 0.9442 - val_acc: 0.7738\n",
      "Epoch 27/30\n",
      "62/62 [==============================] - 34s 551ms/step - loss: 0.1054 - acc: 0.9567 - val_loss: 1.1093 - val_acc: 0.7462\n",
      "Epoch 28/30\n",
      "62/62 [==============================] - 35s 572ms/step - loss: 0.0901 - acc: 0.9627 - val_loss: 0.9827 - val_acc: 0.7738\n",
      "Epoch 29/30\n",
      "62/62 [==============================] - 35s 568ms/step - loss: 0.1007 - acc: 0.9647 - val_loss: 1.0382 - val_acc: 0.7575\n",
      "Epoch 30/30\n",
      "62/62 [==============================] - 32s 521ms/step - loss: 0.0993 - acc: 0.9595 - val_loss: 1.1161 - val_acc: 0.7312\n"
     ]
    },
    {
     "data": {
      "text/plain": [
       "<tensorflow.python.keras.callbacks.History at 0xd95a0def28>"
      ]
     },
     "execution_count": 6,
     "metadata": {},
     "output_type": "execute_result"
    }
   ],
   "source": [
    "\n",
    "model.fit_generator( training_set,steps_per_epoch=2000 // 32,epochs=30,validation_data=test_set,validation_steps=800 // 32)"
   ]
  },
  {
   "cell_type": "code",
   "execution_count": 7,
   "metadata": {},
   "outputs": [
    {
     "name": "stdout",
     "output_type": "stream",
     "text": [
      "Dog\n"
     ]
    },
    {
     "data": {
      "image/png": "[encoded data removed]",
      "text/plain": [
       "<Figure size 432x288 with 1 Axes>"
      ]
     },
     "metadata": {
      "needs_background": "light"
     },
     "output_type": "display_data"
    }
   ],
   "source": [
    "from tensorflow.keras.preprocessing import image\n",
    "test_image=image.load_img('random.jpg',target_size=(64,64))\n",
    "mp.imshow(test_image)\n",
    "test_image=image.img_to_array(test_image)\n",
    "test_image=np.expand_dims(test_image,axis=0)\n",
    "result=model.predict(test_image)\n",
    "training_set.class_indices\n",
    "\n",
    "if result[0][0]>=0.5:\n",
    "    print('Dog')\n",
    "else :\n",
    "    print('Cat')\n",
    "    "
   ]
  },
  {
   "cell_type": "code",
   "execution_count": 8,
   "metadata": {},
   "outputs": [],
   "source": [
    "model.save('ImageClassifierModel.model')"
   ]
  }
 ],
 "metadata": {
  "kernelspec": {
   "display_name": "Python 3",
   "language": "python",
   "name": "python3"
  },
  "language_info": {
   "codemirror_mode": {
    "name": "ipython",
    "version": 3
   },
   "file_extension": ".py",
   "mimetype": "text/x-python",
   "name": "python",
   "nbconvert_exporter": "python",
   "pygments_lexer": "ipython3",
   "version": "3.5.6"
  }
 },
 "nbformat": 4,
 "nbformat_minor": 2
}
